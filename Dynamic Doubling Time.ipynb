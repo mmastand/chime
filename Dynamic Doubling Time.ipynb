{
 "cells": [
  {
   "cell_type": "code",
   "execution_count": 2,
   "metadata": {},
   "outputs": [],
   "source": [
    "import pandas as pd\n",
    "from datetime import datetime, date, timedelta\n",
    "import numpy as np"
   ]
  },
  {
   "cell_type": "code",
   "execution_count": 26,
   "metadata": {},
   "outputs": [
    {
     "name": "stdout",
     "output_type": "stream",
     "text": [
      "0.3504013296578563\n",
      "0.3066796197745145\n",
      "0.32264098655951223\n",
      "0.31417907386899635\n",
      "0.28851301176587074\n",
      "0.26174205908552883\n",
      "0.21518330571075459\n"
     ]
    }
   ],
   "source": [
    "# This was a tester from the blog post to figure out how to calculate beta.\n",
    "\n",
    "x0 = np.array([35240, 45071, 55674, 69660, 86570, 105363, 125415])\n",
    "x1 = np.array([45071, 55674, 69660, 86570, 105363, 125415, 143444])\n",
    "active_cases = np.array([34100, 43374, 53468, 66488, 82439, 100022, 118522])\n",
    "cum_rec = np.array([668, 1096, 1400, 2107, 2807, 3612, 4685])\n",
    "cum_dead = np.array([472, 601, 806, 1065, 1324, 1729, 2208])\n",
    "growth_rate = (x1 - x0) / x0\n",
    "#print(growth_rate)\n",
    "doubling_time = 1.0 / np.log2(growth_rate + 1)\n",
    "\n",
    "gamma = 1/14\n",
    "beta = growth_rate + gamma\n",
    "\n",
    "for val in beta:\n",
    "    print(val)"
   ]
  },
  {
   "cell_type": "code",
   "execution_count": 38,
   "metadata": {},
   "outputs": [],
   "source": [
    "# la, nyc, slc county data from nytimes county level data\n",
    "la = pd.read_csv(\"la_data.csv\")\n",
    "nyc = pd.read_csv(\"la_data.csv\")\n",
    "slc = pd.read_csv(\"la_data.csv\")"
   ]
  },
  {
   "cell_type": "code",
   "execution_count": 43,
   "metadata": {},
   "outputs": [],
   "source": [
    "# add admits to data for LA county.\n",
    "la[\"admits\"] = la.cases - la.cases.shift()\n",
    "# Pretend customer gave us rows 60-65\n",
    "la_train = la.iloc[60:66]\n",
    "la_train = la_train[[\"date\", \"cases\", \"admits\"]]\n",
    "# Use rows 66-end to project\n",
    "la_test = la.iloc[66:]\n",
    "la_test = la_test[[\"date\", \"cases\", \"admits\"]]"
   ]
  },
  {
   "cell_type": "code",
   "execution_count": 44,
   "metadata": {},
   "outputs": [
    {
     "data": {
      "text/html": [
       "<div>\n",
       "<style scoped>\n",
       "    .dataframe tbody tr th:only-of-type {\n",
       "        vertical-align: middle;\n",
       "    }\n",
       "\n",
       "    .dataframe tbody tr th {\n",
       "        vertical-align: top;\n",
       "    }\n",
       "\n",
       "    .dataframe thead th {\n",
       "        text-align: right;\n",
       "    }\n",
       "</style>\n",
       "<table border=\"1\" class=\"dataframe\">\n",
       "  <thead>\n",
       "    <tr style=\"text-align: right;\">\n",
       "      <th></th>\n",
       "      <th>date</th>\n",
       "      <th>cases</th>\n",
       "      <th>admits</th>\n",
       "    </tr>\n",
       "  </thead>\n",
       "  <tbody>\n",
       "    <tr>\n",
       "      <th>60</th>\n",
       "      <td>2020-03-26</td>\n",
       "      <td>1216</td>\n",
       "      <td>417.0</td>\n",
       "    </tr>\n",
       "    <tr>\n",
       "      <th>61</th>\n",
       "      <td>2020-03-27</td>\n",
       "      <td>1465</td>\n",
       "      <td>249.0</td>\n",
       "    </tr>\n",
       "    <tr>\n",
       "      <th>62</th>\n",
       "      <td>2020-03-28</td>\n",
       "      <td>1804</td>\n",
       "      <td>339.0</td>\n",
       "    </tr>\n",
       "    <tr>\n",
       "      <th>63</th>\n",
       "      <td>2020-03-29</td>\n",
       "      <td>2136</td>\n",
       "      <td>332.0</td>\n",
       "    </tr>\n",
       "    <tr>\n",
       "      <th>64</th>\n",
       "      <td>2020-03-30</td>\n",
       "      <td>2474</td>\n",
       "      <td>338.0</td>\n",
       "    </tr>\n",
       "    <tr>\n",
       "      <th>65</th>\n",
       "      <td>2020-03-31</td>\n",
       "      <td>3011</td>\n",
       "      <td>537.0</td>\n",
       "    </tr>\n",
       "  </tbody>\n",
       "</table>\n",
       "</div>"
      ],
      "text/plain": [
       "          date  cases  admits\n",
       "60  2020-03-26   1216   417.0\n",
       "61  2020-03-27   1465   249.0\n",
       "62  2020-03-28   1804   339.0\n",
       "63  2020-03-29   2136   332.0\n",
       "64  2020-03-30   2474   338.0\n",
       "65  2020-03-31   3011   537.0"
      ]
     },
     "execution_count": 44,
     "metadata": {},
     "output_type": "execute_result"
    }
   ],
   "source": [
    "la_train"
   ]
  },
  {
   "cell_type": "code",
   "execution_count": 46,
   "metadata": {},
   "outputs": [
    {
     "name": "stdout",
     "output_type": "stream",
     "text": [
      "doubling time:  2.3508306166837216\n",
      "beta:  0.41435620300751874\n",
      " \n",
      "doubling time:  4.415665203162323\n",
      "beta:  0.24139444173573865\n",
      " \n",
      "doubling time:  4.025238058736619\n",
      "beta:  0.25934431422236304\n",
      " \n",
      "doubling time:  4.797756627452325\n",
      "beta:  0.2268592830390583\n",
      " \n",
      "doubling time:  5.4126878376129435\n",
      "beta:  0.208049428340455\n",
      " \n",
      "doubling time:  4.223627535779114\n",
      "beta:  0.2497746358589932\n",
      " \n"
     ]
    }
   ],
   "source": [
    "gamma = 1/14\n",
    "\n",
    "growth_rate = la_train.admits / la_train.cases\n",
    "doubling_time = 1.0 / np.log2(growth_rate + 1)\n",
    "beta = growth_rate + gamma\n",
    "\n",
    "# Print doubling time and beta from each time step\n",
    "for val1, val2 in zip(doubling_time, beta):\n",
    "    print(\"doubling time: \", val1)\n",
    "    print(\"beta: \", val2)\n",
    "    print(\" \")"
   ]
  },
  {
   "cell_type": "code",
   "execution_count": null,
   "metadata": {},
   "outputs": [],
   "source": [
    "# Got stuck here...\n",
    "population = 13000000\n",
    "market_share = 100\n",
    "la_train[\"i\"] = \"wha??\""
   ]
  },
  {
   "cell_type": "code",
   "execution_count": 28,
   "metadata": {},
   "outputs": [
    {
     "name": "stdout",
     "output_type": "stream",
     "text": [
      "s:  328162242.85714287\n",
      "i:  35240\n",
      "rc:  2517.1428571428573\n",
      "r_act:  1140\n",
      "  \n",
      "s:  328151709.64285713\n",
      "i:  45071\n",
      "rc:  3219.3571428571427\n",
      "r_act:  1697\n",
      "  \n",
      "s:  328140349.28571427\n",
      "i:  55674\n",
      "rc:  3976.714285714286\n",
      "r_act:  2206\n",
      "  \n",
      "s:  328125364.28571427\n",
      "i:  69660\n",
      "rc:  4975.714285714285\n",
      "r_act:  3172\n",
      "  \n",
      "s:  328107246.4285714\n",
      "i:  86570\n",
      "rc:  6183.571428571428\n",
      "r_act:  4131\n",
      "  \n",
      "s:  328087111.0714286\n",
      "i:  105363\n",
      "rc:  7525.928571428572\n",
      "r_act:  5341\n",
      "  \n",
      "s:  328065626.78571427\n",
      "i:  125415\n",
      "rc:  8958.214285714286\n",
      "r_act:  6893\n",
      "  \n"
     ]
    }
   ],
   "source": [
    "# Just scratchwork below.\n",
    "\n",
    "# Doesn't change\n",
    "population = 328200000\n",
    "# Varies with time\n",
    "for i0, r_act, cd in zip(x0, cum_rec, cum_dead):\n",
    "    r_calc = i0 * 1/14\n",
    "    s_calc = population - i0 - r_calc\n",
    "    print(\"s: \", s_calc)\n",
    "    print(\"i: \", i0)\n",
    "    print(\"rc: \", r_calc)\n",
    "    print(\"r_act: \", r_act+cd)\n",
    "    print(\"  \")"
   ]
  },
  {
   "cell_type": "code",
   "execution_count": 49,
   "metadata": {},
   "outputs": [],
   "source": [
    "def sir(\n",
    "    s: float, i: float, r: float, beta: float, gamma: float, n: float\n",
    ") -> Tuple[float, float, float]:\n",
    "    \"\"\"The SIR model, one time step.\"\"\"\n",
    "    s_n = (-beta * s * i) + s\n",
    "    i_n = (beta * s * i - gamma * i) + i\n",
    "    r_n = gamma * i + r\n",
    "    scale = n / (s_n + i_n + r_n)\n",
    "    return s_n * scale, i_n * scale, r_n * scale\n",
    "\n",
    "\n",
    "def sim_sir(\n",
    "    s: float, i: float, r: float, gamma: float, i_day: int, beta: np.array\n",
    "):\n",
    "    \"\"\"Simulate SIR model forward in time, returning a dictionary of daily arrays\n",
    "    Parameter order has changed to allow multiple (beta, n_days)\n",
    "    to reflect multiple changing social distancing policies.\n",
    "    \"\"\"\n",
    "    s, i, r = (float(v) for v in (s, i, r))\n",
    "    n = s + i + r\n",
    "    d = i_day\n",
    "    \n",
    "\n",
    "    s_a = np.empty(n_days, \"float\")\n",
    "    i_a = np.empty(n_days, \"float\")\n",
    "    r_a = np.empty(n_days, \"float\")\n",
    "    beta_a = np.empty(n_days, \"float\")\n",
    "\n",
    "    index = 0\n",
    "    for _ in range(n_days):\n",
    "        beta = \n",
    "        d_a[index] = d\n",
    "        s_a[index] = s\n",
    "        i_a[index] = i\n",
    "        r_a[index] = r\n",
    "        index += 1\n",
    "\n",
    "        s, i, r = sir(s, i, r, beta, gamma, n)\n",
    "        d += 1\n",
    "\n",
    "    d_a[index] = d\n",
    "    s_a[index] = s\n",
    "    i_a[index] = i\n",
    "    r_a[index] = r\n",
    "    return {\n",
    "        \"day\": d_a,\n",
    "        \"susceptible\": s_a,\n",
    "        \"infected\": i_a,\n",
    "        \"recovered\": r_a,\n",
    "        \"ever_infected\": i_a + r_a\n",
    "    }\n",
    "\n",
    "\n",
    "def build_sim_sir_w_date_df(\n",
    "    raw_df: pd.DataFrame,\n",
    "    current_date: datetime,\n",
    "    keys: Sequence[str],\n",
    ") -> pd.DataFrame:\n",
    "    day = raw_df.day\n",
    "    return pd.DataFrame({\n",
    "        \"day\": day,\n",
    "        \"date\": day.astype('timedelta64[D]') + np.datetime64(current_date),\n",
    "        **{\n",
    "            key: raw_df[key]\n",
    "            for key in keys\n",
    "        }\n",
    "    })\n",
    "\n",
    "sim_sir()"
   ]
  },
  {
   "cell_type": "code",
   "execution_count": null,
   "metadata": {},
   "outputs": [],
   "source": []
  }
 ],
 "metadata": {
  "kernelspec": {
   "display_name": "Python 3",
   "language": "python",
   "name": "python3"
  },
  "language_info": {
   "codemirror_mode": {
    "name": "ipython",
    "version": 3
   },
   "file_extension": ".py",
   "mimetype": "text/x-python",
   "name": "python",
   "nbconvert_exporter": "python",
   "pygments_lexer": "ipython3",
   "version": "3.8.2"
  }
 },
 "nbformat": 4,
 "nbformat_minor": 4
}
